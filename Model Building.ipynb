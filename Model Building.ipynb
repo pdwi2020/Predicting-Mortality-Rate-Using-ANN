{
 "cells": [
  {
   "cell_type": "markdown",
   "metadata": {
    "colab_type": "text",
    "id": "pGKMukwDgVY-"
   },
   "source": [
    "**<h3> Scaling Data**"
   ]
  },
  {
   "cell_type": "code",
   "execution_count": 20,
   "metadata": {
    "colab": {},
    "colab_type": "code",
    "id": "MAmFropRD68x"
   },
   "outputs": [],
   "source": [
    "from sklearn.preprocessing import MinMaxScaler\n",
    "scaler = MinMaxScaler(feature_range=(0, 1))\n",
    "df = scaler.fit_transform(df)"
   ]
  },
  {
   "cell_type": "markdown",
   "metadata": {
    "colab_type": "text",
    "id": "-_I4XqpTQVWb"
   },
   "source": [
    "**<H2> Deep Learning Model**\n",
    "\n",
    "Dataframe df will be given as X parameter and Inhospitaldeath case will be given as Y."
   ]
  },
  {
   "cell_type": "code",
   "execution_count": 21,
   "metadata": {
    "colab": {},
    "colab_type": "code",
    "id": "DSqRe-fZjhg_"
   },
   "outputs": [],
   "source": [
    "X = df\n",
    "y = temp"
   ]
  },
  {
   "cell_type": "code",
   "execution_count": 22,
   "metadata": {
    "colab": {
     "base_uri": "https://localhost:8080/",
     "height": 34
    },
    "colab_type": "code",
    "id": "3DpEWj2i6btJ",
    "outputId": "6ed582f6-7740-43bc-fda2-5b5669c87028"
   },
   "outputs": [
    {
     "name": "stdout",
     "output_type": "stream",
     "text": [
      "(3999, 37) (3999, 2)\n"
     ]
    }
   ],
   "source": [
    "print(X.shape , y.shape)"
   ]
  },
  {
   "cell_type": "markdown",
   "metadata": {
    "colab_type": "text",
    "id": "5yNhVVUGg4KF"
   },
   "source": [
    "**<h3>Splitting Dataset**"
   ]
  },
  {
   "cell_type": "code",
   "execution_count": 23,
   "metadata": {
    "colab": {},
    "colab_type": "code",
    "id": "o-v8dGW279yI"
   },
   "outputs": [],
   "source": [
    "X_train , X_test , y_train , y_test  = train_test_split(X , y , test_size = 0.2)"
   ]
  },
  {
   "cell_type": "code",
   "execution_count": 24,
   "metadata": {
    "colab": {
     "base_uri": "https://localhost:8080/",
     "height": 34
    },
    "colab_type": "code",
    "id": "gPgHzlUr9FVd",
    "outputId": "20ce7a53-73f8-4420-9342-5b58ee0b1732"
   },
   "outputs": [
    {
     "name": "stdout",
     "output_type": "stream",
     "text": [
      "(3199, 37) (800, 37) (3199, 2) (800, 2)\n"
     ]
    }
   ],
   "source": [
    "print(X_train.shape,X_test.shape,y_train.shape,y_test.shape)"
   ]
  },
  {
   "cell_type": "markdown",
   "metadata": {
    "colab_type": "text",
    "id": "M31kEoKXbYT0"
   },
   "source": [
    "Importing necessary files."
   ]
  },
  {
   "cell_type": "code",
   "execution_count": 26,
   "metadata": {},
   "outputs": [],
   "source": [
    "from keras.models import Sequential\n",
    "from keras.layers import Dense, Dropout , BatchNormalization\n",
    "import pandas as pd\n",
    "from sklearn.model_selection import train_test_split\n",
    "from keras.utils import np_utils\n",
    "##from keras.optimizers import RMSprop, Adam\n",
    "from tensorflow.keras.optimizers import RMSprop, Adam"
   ]
  },
  {
   "cell_type": "markdown",
   "metadata": {
    "colab_type": "text",
    "id": "OFh0knTXbYT5"
   },
   "source": [
    "**<h3> Building ANN Model**"
   ]
  },
  {
   "cell_type": "code",
   "execution_count": 27,
   "metadata": {},
   "outputs": [
    {
     "name": "stdout",
     "output_type": "stream",
     "text": [
      "Model: \"sequential\"\n",
      "_________________________________________________________________\n",
      " Layer (type)                Output Shape              Param #   \n",
      "=================================================================\n",
      " dense (Dense)               (None, 64)                2432      \n",
      "                                                                 \n",
      " dense_1 (Dense)             (None, 128)               8320      \n",
      "                                                                 \n",
      " dense_2 (Dense)             (None, 196)               25284     \n",
      "                                                                 \n",
      " dense_3 (Dense)             (None, 196)               38612     \n",
      "                                                                 \n",
      " batch_normalization (BatchN  (None, 196)              784       \n",
      " ormalization)                                                   \n",
      "                                                                 \n",
      " dense_4 (Dense)             (None, 256)               50432     \n",
      "                                                                 \n",
      " dense_5 (Dense)             (None, 2)                 514       \n",
      "                                                                 \n",
      "=================================================================\n",
      "Total params: 126,378\n",
      "Trainable params: 125,986\n",
      "Non-trainable params: 392\n",
      "_________________________________________________________________\n",
      "None\n"
     ]
    }
   ],
   "source": [
    "model = Sequential()\n",
    "\n",
    "model.add(Dense(64, input_dim=X_train.shape[1] , activation='relu'))\n",
    "model.add(Dense(128, activation='relu'))\n",
    "model.add(Dense(196, activation='relu'))\n",
    "model.add(Dense(196, activation='relu'))\n",
    "\n",
    "model.add(BatchNormalization())\n",
    "\n",
    "model.add(Dense(256, activation='relu'))\n",
    "model.add(Dense(2, activation='sigmoid'))\n",
    "\n",
    "model.compile(optimizer = Adam(lr = 0.0005),loss='binary_crossentropy', metrics=['accuracy'])\n",
    "print(model.summary())"
   ]
  },
  {
   "cell_type": "markdown",
   "metadata": {
    "colab_type": "text",
    "id": "NOe6VkAPUXTI"
   },
   "source": [
    "**<h3> Fitting the model**\n"
   ]
  },
  {
   "cell_type": "code",
   "execution_count": 28,
   "metadata": {},
   "outputs": [
    {
     "name": "stdout",
     "output_type": "stream",
     "text": [
      "Epoch 1/15\n",
      "25/25 [==============================] - 2s 28ms/step - loss: 0.4501 - accuracy: 0.8437 - val_loss: 0.5127 - val_accuracy: 0.8600\n",
      "Epoch 2/15\n",
      "25/25 [==============================] - 0s 10ms/step - loss: 0.3360 - accuracy: 0.8703 - val_loss: 0.5018 - val_accuracy: 0.8600\n",
      "Epoch 3/15\n",
      "25/25 [==============================] - 0s 10ms/step - loss: 0.3222 - accuracy: 0.8721 - val_loss: 0.4855 - val_accuracy: 0.8600\n",
      "Epoch 4/15\n",
      "25/25 [==============================] - 0s 9ms/step - loss: 0.3126 - accuracy: 0.8756 - val_loss: 0.5009 - val_accuracy: 0.8600\n",
      "Epoch 5/15\n",
      "25/25 [==============================] - 0s 9ms/step - loss: 0.3027 - accuracy: 0.8784 - val_loss: 0.4525 - val_accuracy: 0.8600\n",
      "Epoch 6/15\n",
      "25/25 [==============================] - 0s 8ms/step - loss: 0.2995 - accuracy: 0.8803 - val_loss: 0.4674 - val_accuracy: 0.8600\n",
      "Epoch 7/15\n",
      "25/25 [==============================] - 0s 10ms/step - loss: 0.2970 - accuracy: 0.8850 - val_loss: 0.4429 - val_accuracy: 0.8600\n",
      "Epoch 8/15\n",
      "25/25 [==============================] - 0s 12ms/step - loss: 0.2883 - accuracy: 0.8837 - val_loss: 0.4527 - val_accuracy: 0.8600\n",
      "Epoch 9/15\n",
      "25/25 [==============================] - 0s 12ms/step - loss: 0.2840 - accuracy: 0.8847 - val_loss: 0.4491 - val_accuracy: 0.8600\n",
      "Epoch 10/15\n",
      "25/25 [==============================] - 0s 7ms/step - loss: 0.2832 - accuracy: 0.8828 - val_loss: 0.4181 - val_accuracy: 0.8600\n",
      "Epoch 11/15\n",
      "25/25 [==============================] - 0s 7ms/step - loss: 0.2736 - accuracy: 0.8859 - val_loss: 0.4119 - val_accuracy: 0.8600\n",
      "Epoch 12/15\n",
      "25/25 [==============================] - 0s 7ms/step - loss: 0.2706 - accuracy: 0.8912 - val_loss: 0.3960 - val_accuracy: 0.8600\n",
      "Epoch 13/15\n",
      "25/25 [==============================] - 0s 8ms/step - loss: 0.2663 - accuracy: 0.8897 - val_loss: 0.4421 - val_accuracy: 0.8612\n",
      "Epoch 14/15\n",
      "25/25 [==============================] - 0s 8ms/step - loss: 0.2669 - accuracy: 0.8925 - val_loss: 0.4448 - val_accuracy: 0.8587\n",
      "Epoch 15/15\n",
      "25/25 [==============================] - 0s 7ms/step - loss: 0.2630 - accuracy: 0.8934 - val_loss: 0.3998 - val_accuracy: 0.8625\n"
     ]
    }
   ],
   "source": [
    "history = model.fit(X_train, y_train , epochs=15 , batch_size = 128 , validation_data=(X_test, y_test))"
   ]
  },
  {
   "cell_type": "markdown",
   "metadata": {
    "colab_type": "text",
    "id": "mK-RpvT9VNZU"
   },
   "source": [
    "**<h3> Evaluating Performance using Accuracy ,Loss and Confusion Matrix**\n",
    "\n"
   ]
  },
  {
   "cell_type": "code",
   "execution_count": 29,
   "metadata": {},
   "outputs": [
    {
     "name": "stdout",
     "output_type": "stream",
     "text": [
      "dict_keys(['loss', 'accuracy', 'val_loss', 'val_accuracy'])\n"
     ]
    }
   ],
   "source": [
    "print(history.history.keys())"
   ]
  },
  {
   "cell_type": "code",
   "execution_count": 30,
   "metadata": {},
   "outputs": [
    {
     "data": {
      "image/png": "[encoded data removed]",
      "text/plain": [
       "<Figure size 432x288 with 1 Axes>"
      ]
     },
     "metadata": {},
     "output_type": "display_data"
    }
   ],
   "source": [
    "plt.plot(history.history['accuracy'])\n",
    "plt.plot(history.history['val_accuracy'])\n",
    "plt.title('model accuracy')\n",
    "plt.ylabel('accuracy')\n",
    "plt.xlabel('epoch')\n",
    "plt.legend(['train', 'test'], loc='upper left')\n",
    "plt.show()"
   ]
  },
  {
   "cell_type": "code",
   "execution_count": 31,
   "metadata": {},
   "outputs": [
    {
     "data": {
      "image/png": "[encoded data removed]",
      "text/plain": [
       "<Figure size 432x288 with 1 Axes>"
      ]
     },
     "metadata": {},
     "output_type": "display_data"
    }
   ],
   "source": [
    "# summarize history for loss\n",
    "plt.plot(history.history['loss'])\n",
    "plt.plot(history.history['val_loss'])\n",
    "plt.title('model loss')\n",
    "plt.ylabel('loss')\n",
    "plt.xlabel('epoch')\n",
    "plt.legend(['train', 'test'], loc='upper left')\n",
    "plt.show()"
   ]
  },
  {
   "cell_type": "code",
   "execution_count": 32,
   "metadata": {},
   "outputs": [],
   "source": [
    "from sklearn.metrics import confusion_matrix\n",
    "#prediction\n",
    "pred = model.predict(X_test)\n",
    "pred = np.argmax(pred,axis = 1) \n",
    "y_true = np.argmax(y_test,axis = 1)"
   ]
  },
  {
   "cell_type": "code",
   "execution_count": 33,
   "metadata": {
    "colab": {
     "base_uri": "https://localhost:8080/",
     "height": 55
    },
    "colab_type": "code",
    "id": "n0RntYHAW1Q_",
    "outputId": "65076c0d-0541-4ab3-a32e-b4596de76e61"
   },
   "outputs": [
    {
     "name": "stdout",
     "output_type": "stream",
     "text": [
      "[[681   7]\n",
      " [103   9]]\n"
     ]
    }
   ],
   "source": [
    "cnf_matrix = confusion_matrix(y_true, pred)\n",
    "print(cnf_matrix)"
   ]
  },
  {
   "cell_type": "code",
   "execution_count": 34,
   "metadata": {},
   "outputs": [
    {
     "name": "stdout",
     "output_type": "stream",
     "text": [
      "0.8625\n"
     ]
    }
   ],
   "source": [
    "print(accuracy_score(y_true,pred))"
   ]
  },
  {
   "cell_type": "markdown",
   "metadata": {
    "colab_type": "text",
    "id": "Pdw3cG7ycVmW"
   },
   "source": [
    "**<h2> Summary**\n",
    "\n",
    "The above model has a loss of 0.27 and an accuracy of about 88%. This is the maximum accuracy it can reach with the given size of data. \n",
    "\n",
    "This model can be successfully used for predicting mortality in ICUs but then one should keep in mind that these values are just predicted values and the predictions can be wrong."
   ]
  }
 ],
 "metadata": {
  "accelerator": "GPU",
  "colab": {
   "collapsed_sections": [],
   "name": "Mortality_Prediction_ICU.ipynb",
   "provenance": []
  },
  "kernelspec": {
   "display_name": "Python 3",
   "language": "python",
   "name": "python3"
  },
  "language_info": {
   "codemirror_mode": {
    "name": "ipython",
    "version": 3
   },
   "file_extension": ".py",
   "mimetype": "text/x-python",
   "name": "python",
   "nbconvert_exporter": "python",
   "pygments_lexer": "ipython3",
   "version": "3.8.8"
  }
 },
 "nbformat": 4,
 "nbformat_minor": 1
}
